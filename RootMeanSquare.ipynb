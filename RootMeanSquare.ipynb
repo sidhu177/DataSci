{
 "cells": [
  {
   "cell_type": "markdown",
   "metadata": {},
   "source": [
    "# This Notebook Compares RootMeanSquare Using a For loop and a While loop"
   ]
  },
  {
   "cell_type": "markdown",
   "metadata": {},
   "source": [
    "RootMeanSquare by While loop"
   ]
  },
  {
   "cell_type": "code",
   "execution_count": 1,
   "metadata": {
    "collapsed": true
   },
   "outputs": [],
   "source": [
    "import numpy as np\n",
    "from numpy import sqrt\n",
    "\n",
    "def rms(x):\n",
    "    index = 0\n",
    "    sigma = 0\n",
    "    while index <len(x):\n",
    "        acc = x[index]**2\n",
    "        sigma = acc + sigma\n",
    "        index += 1\n",
    "    \n",
    "    add = sigma/len(x)\n",
    "    rms = sqrt(add)\n",
    "    return rms"
   ]
  },
  {
   "cell_type": "code",
   "execution_count": 2,
   "metadata": {
    "collapsed": false
   },
   "outputs": [
    {
     "data": {
      "text/plain": [
       "6.2048368229954285"
      ]
     },
     "execution_count": 2,
     "metadata": {},
     "output_type": "execute_result"
    }
   ],
   "source": [
    "x = [1,2,3,4,5,6,7,8,9,10]\n",
    "rms(x)"
   ]
  },
  {
   "cell_type": "markdown",
   "metadata": {},
   "source": [
    "RootMeanSquare by for loop"
   ]
  },
  {
   "cell_type": "code",
   "execution_count": 8,
   "metadata": {
    "collapsed": false
   },
   "outputs": [],
   "source": [
    "import numpy as np\n",
    "from numpy import sqrt\n",
    "\n",
    "def frms(x):\n",
    "    sigma = 0\n",
    "    for i in x:\n",
    "        print('element',i)\n",
    "        acc = i**2\n",
    "        sigma = acc + sigma\n",
    "\n",
    "    add = sigma/len(x)\n",
    "    rms = sqrt(add)\n",
    "    return rms"
   ]
  },
  {
   "cell_type": "code",
   "execution_count": 9,
   "metadata": {
    "collapsed": false
   },
   "outputs": [
    {
     "name": "stdout",
     "output_type": "stream",
     "text": [
      "element 1\n",
      "element 2\n",
      "element 3\n",
      "element 4\n",
      "element 5\n",
      "element 6\n",
      "element 7\n",
      "element 8\n",
      "element 9\n",
      "element 10\n"
     ]
    },
    {
     "data": {
      "text/plain": [
       "6.2048368229954285"
      ]
     },
     "execution_count": 9,
     "metadata": {},
     "output_type": "execute_result"
    }
   ],
   "source": [
    "x = [1,2,3,4,5,6,7,8,9,10]\n",
    "frms(x)"
   ]
  },
  {
   "cell_type": "markdown",
   "metadata": {},
   "source": [
    "This program compares for and while loops with a Tolerance value"
   ]
  },
  {
   "cell_type": "code",
   "execution_count": 26,
   "metadata": {
    "collapsed": false
   },
   "outputs": [
    {
     "name": "stdout",
     "output_type": "stream",
     "text": [
      "While RMS value 6.204836823\n",
      "For RMS value 6.204836823\n",
      "For and While match\n"
     ]
    }
   ],
   "source": [
    "import numpy as np\n",
    "from numpy import sqrt\n",
    "\n",
    "x = [1,2,3,4,5,6,7,8,9,10]\n",
    "\n",
    "def rms(x):\n",
    "    index = 0\n",
    "    sigma = 0\n",
    "    while index <len(x):\n",
    "        acc = x[index]**2\n",
    "        sigma = acc + sigma\n",
    "        index += 1\n",
    "    \n",
    "    rms = sqrt(sigma/len(x))\n",
    "    return rms\n",
    "\n",
    "def frms(x):\n",
    "    sigma = 0\n",
    "    for i in x:\n",
    "        acc = i**2\n",
    "        sigma = acc + sigma\n",
    "\n",
    "    rms = sqrt(sigma/len(x))\n",
    "    return rms\n",
    "\n",
    "Tol = 0.0001\n",
    "print('While RMS value', rms(x))\n",
    "print('For RMS value', frms(x))\n",
    "Calc = abs(rms(x)-frms(x))\n",
    "if Tol>Calc:\n",
    "    print('For and While match')\n",
    "else:\n",
    "     print('Tolerance Exceeded')"
   ]
  },
  {
   "cell_type": "code",
   "execution_count": null,
   "metadata": {
    "collapsed": true
   },
   "outputs": [],
   "source": []
  }
 ],
 "metadata": {
  "anaconda-cloud": {},
  "kernelspec": {
   "display_name": "Python [conda root]",
   "language": "python",
   "name": "conda-root-py"
  },
  "language_info": {
   "codemirror_mode": {
    "name": "ipython",
    "version": 3
   },
   "file_extension": ".py",
   "mimetype": "text/x-python",
   "name": "python",
   "nbconvert_exporter": "python",
   "pygments_lexer": "ipython3",
   "version": "3.5.2"
  }
 },
 "nbformat": 4,
 "nbformat_minor": 1
}
