{
 "cells": [
  {
   "cell_type": "code",
   "execution_count": 5,
   "metadata": {
    "collapsed": true
   },
   "outputs": [],
   "source": [
    "import os\n",
    "import pandas as pd\n",
    "import numpy as np\n",
    "import matplotlib.pyplot as plt\n",
    "\n",
    "%matplotlib inline"
   ]
  },
  {
   "cell_type": "code",
   "execution_count": 6,
   "metadata": {
    "collapsed": false
   },
   "outputs": [
    {
     "data": {
      "text/plain": [
       "'C:\\\\Users\\\\SIDHARTH\\\\Python\\\\DataSci'"
      ]
     },
     "execution_count": 6,
     "metadata": {},
     "output_type": "execute_result"
    }
   ],
   "source": [
    "a=os.getcwd()\n",
    "a"
   ]
  },
  {
   "cell_type": "code",
   "execution_count": 48,
   "metadata": {
    "collapsed": false
   },
   "outputs": [
    {
     "data": {
      "text/html": [
       "<div>\n",
       "<style scoped>\n",
       "    .dataframe tbody tr th:only-of-type {\n",
       "        vertical-align: middle;\n",
       "    }\n",
       "\n",
       "    .dataframe tbody tr th {\n",
       "        vertical-align: top;\n",
       "    }\n",
       "\n",
       "    .dataframe thead th {\n",
       "        text-align: right;\n",
       "    }\n",
       "</style>\n",
       "<table border=\"1\" class=\"dataframe\">\n",
       "  <thead>\n",
       "    <tr style=\"text-align: right;\">\n",
       "      <th></th>\n",
       "      <th>date</th>\n",
       "      <th>close</th>\n",
       "      <th>volume</th>\n",
       "      <th>open</th>\n",
       "      <th>high</th>\n",
       "      <th>low</th>\n",
       "    </tr>\n",
       "  </thead>\n",
       "  <tbody>\n",
       "    <tr>\n",
       "      <th>0</th>\n",
       "      <td>2018/07/24</td>\n",
       "      <td>193.00</td>\n",
       "      <td>18680930.0</td>\n",
       "      <td>192.45</td>\n",
       "      <td>193.6601</td>\n",
       "      <td>192.05</td>\n",
       "    </tr>\n",
       "    <tr>\n",
       "      <th>1</th>\n",
       "      <td>2018/07/23</td>\n",
       "      <td>191.61</td>\n",
       "      <td>15955820.0</td>\n",
       "      <td>190.68</td>\n",
       "      <td>191.9600</td>\n",
       "      <td>189.56</td>\n",
       "    </tr>\n",
       "    <tr>\n",
       "      <th>2</th>\n",
       "      <td>2018/07/20</td>\n",
       "      <td>191.44</td>\n",
       "      <td>20670830.0</td>\n",
       "      <td>191.78</td>\n",
       "      <td>192.4300</td>\n",
       "      <td>190.17</td>\n",
       "    </tr>\n",
       "    <tr>\n",
       "      <th>3</th>\n",
       "      <td>2018/07/19</td>\n",
       "      <td>191.88</td>\n",
       "      <td>20182050.0</td>\n",
       "      <td>189.69</td>\n",
       "      <td>192.5500</td>\n",
       "      <td>189.69</td>\n",
       "    </tr>\n",
       "    <tr>\n",
       "      <th>4</th>\n",
       "      <td>2018/07/18</td>\n",
       "      <td>190.40</td>\n",
       "      <td>16365720.0</td>\n",
       "      <td>191.78</td>\n",
       "      <td>191.8000</td>\n",
       "      <td>189.93</td>\n",
       "    </tr>\n",
       "  </tbody>\n",
       "</table>\n",
       "</div>"
      ],
      "text/plain": [
       "         date   close      volume    open      high     low\n",
       "0  2018/07/24  193.00  18680930.0  192.45  193.6601  192.05\n",
       "1  2018/07/23  191.61  15955820.0  190.68  191.9600  189.56\n",
       "2  2018/07/20  191.44  20670830.0  191.78  192.4300  190.17\n",
       "3  2018/07/19  191.88  20182050.0  189.69  192.5500  189.69\n",
       "4  2018/07/18  190.40  16365720.0  191.78  191.8000  189.93"
      ]
     },
     "execution_count": 48,
     "metadata": {},
     "output_type": "execute_result"
    }
   ],
   "source": [
    "url = 'https://raw.githubusercontent.com/sidhu177/DataSci/master/HistoricalQuotes.csv'\n",
    "appl = pd.read_csv(url, sep=',')\n",
    "appl.head(5)"
   ]
  },
  {
   "cell_type": "code",
   "execution_count": 49,
   "metadata": {
    "collapsed": false
   },
   "outputs": [
    {
     "name": "stdout",
     "output_type": "stream",
     "text": [
      "<class 'pandas.core.frame.DataFrame'>\n",
      "RangeIndex: 126 entries, 0 to 125\n",
      "Data columns (total 6 columns):\n",
      "date      126 non-null object\n",
      "close     126 non-null float64\n",
      "volume    126 non-null float64\n",
      "open      126 non-null float64\n",
      "high      126 non-null float64\n",
      "low       126 non-null float64\n",
      "dtypes: float64(5), object(1)\n",
      "memory usage: 6.0+ KB\n"
     ]
    }
   ],
   "source": [
    "appl.info()"
   ]
  },
  {
   "cell_type": "code",
   "execution_count": 19,
   "metadata": {
    "collapsed": false
   },
   "outputs": [
    {
     "data": {
      "text/plain": [
       "126"
      ]
     },
     "execution_count": 19,
     "metadata": {},
     "output_type": "execute_result"
    }
   ],
   "source": [
    "appl.shape[0]"
   ]
  },
  {
   "cell_type": "code",
   "execution_count": 21,
   "metadata": {
    "collapsed": false
   },
   "outputs": [
    {
     "data": {
      "text/plain": [
       "Index(['date', 'close', 'volume', 'open', 'high', 'low'], dtype='object')"
      ]
     },
     "execution_count": 21,
     "metadata": {},
     "output_type": "execute_result"
    }
   ],
   "source": [
    "appl.columns"
   ]
  },
  {
   "cell_type": "code",
   "execution_count": 23,
   "metadata": {
    "collapsed": false
   },
   "outputs": [
    {
     "data": {
      "text/plain": [
       "RangeIndex(start=0, stop=126, step=1)"
      ]
     },
     "execution_count": 23,
     "metadata": {},
     "output_type": "execute_result"
    }
   ],
   "source": [
    "appl.index"
   ]
  },
  {
   "cell_type": "code",
   "execution_count": 30,
   "metadata": {
    "collapsed": false
   },
   "outputs": [
    {
     "data": {
      "text/html": [
       "<div>\n",
       "<style scoped>\n",
       "    .dataframe tbody tr th:only-of-type {\n",
       "        vertical-align: middle;\n",
       "    }\n",
       "\n",
       "    .dataframe tbody tr th {\n",
       "        vertical-align: top;\n",
       "    }\n",
       "\n",
       "    .dataframe thead th {\n",
       "        text-align: right;\n",
       "    }\n",
       "</style>\n",
       "<table border=\"1\" class=\"dataframe\">\n",
       "  <thead>\n",
       "    <tr style=\"text-align: right;\">\n",
       "      <th></th>\n",
       "      <th>close</th>\n",
       "      <th>volume</th>\n",
       "      <th>open</th>\n",
       "      <th>low</th>\n",
       "    </tr>\n",
       "    <tr>\n",
       "      <th>high</th>\n",
       "      <th></th>\n",
       "      <th></th>\n",
       "      <th></th>\n",
       "      <th></th>\n",
       "    </tr>\n",
       "  </thead>\n",
       "  <tbody>\n",
       "    <tr>\n",
       "      <th>166.80</th>\n",
       "      <td>160.50</td>\n",
       "      <td>85957050.0</td>\n",
       "      <td>166.00</td>\n",
       "      <td>160.100</td>\n",
       "    </tr>\n",
       "    <tr>\n",
       "      <th>173.09</th>\n",
       "      <td>343.04</td>\n",
       "      <td>79884740.0</td>\n",
       "      <td>339.67</td>\n",
       "      <td>338.845</td>\n",
       "    </tr>\n",
       "    <tr>\n",
       "      <th>163.88</th>\n",
       "      <td>156.49</td>\n",
       "      <td>72215320.0</td>\n",
       "      <td>159.10</td>\n",
       "      <td>156.000</td>\n",
       "    </tr>\n",
       "    <tr>\n",
       "      <th>157.89</th>\n",
       "      <td>156.41</td>\n",
       "      <td>70583530.0</td>\n",
       "      <td>157.07</td>\n",
       "      <td>150.240</td>\n",
       "    </tr>\n",
       "    <tr>\n",
       "      <th>163.72</th>\n",
       "      <td>163.03</td>\n",
       "      <td>68171940.0</td>\n",
       "      <td>154.83</td>\n",
       "      <td>154.000</td>\n",
       "    </tr>\n",
       "  </tbody>\n",
       "</table>\n",
       "</div>"
      ],
      "text/plain": [
       "         close      volume    open      low\n",
       "high                                       \n",
       "166.80  160.50  85957050.0  166.00  160.100\n",
       "173.09  343.04  79884740.0  339.67  338.845\n",
       "163.88  156.49  72215320.0  159.10  156.000\n",
       "157.89  156.41  70583530.0  157.07  150.240\n",
       "163.72  163.03  68171940.0  154.83  154.000"
      ]
     },
     "execution_count": 30,
     "metadata": {},
     "output_type": "execute_result"
    }
   ],
   "source": [
    "a = a.sort_values(['volume'], ascending=False)\n",
    "a.head(5)"
   ]
  },
  {
   "cell_type": "code",
   "execution_count": 51,
   "metadata": {
    "collapsed": false
   },
   "outputs": [
    {
     "data": {
      "text/plain": [
       "0   2018-07-24\n",
       "1   2018-07-23\n",
       "2   2018-07-20\n",
       "3   2018-07-19\n",
       "4   2018-07-18\n",
       "Name: date, dtype: datetime64[ns]"
      ]
     },
     "execution_count": 51,
     "metadata": {},
     "output_type": "execute_result"
    }
   ],
   "source": [
    "appl.date = pd.to_datetime(appl.date)\n",
    "appl['date'].head(5)"
   ]
  },
  {
   "cell_type": "code",
   "execution_count": 52,
   "metadata": {
    "collapsed": false
   },
   "outputs": [
    {
     "data": {
      "text/html": [
       "<div>\n",
       "<style scoped>\n",
       "    .dataframe tbody tr th:only-of-type {\n",
       "        vertical-align: middle;\n",
       "    }\n",
       "\n",
       "    .dataframe tbody tr th {\n",
       "        vertical-align: top;\n",
       "    }\n",
       "\n",
       "    .dataframe thead th {\n",
       "        text-align: right;\n",
       "    }\n",
       "</style>\n",
       "<table border=\"1\" class=\"dataframe\">\n",
       "  <thead>\n",
       "    <tr style=\"text-align: right;\">\n",
       "      <th></th>\n",
       "      <th>close</th>\n",
       "      <th>volume</th>\n",
       "      <th>open</th>\n",
       "      <th>high</th>\n",
       "      <th>low</th>\n",
       "    </tr>\n",
       "    <tr>\n",
       "      <th>date</th>\n",
       "      <th></th>\n",
       "      <th></th>\n",
       "      <th></th>\n",
       "      <th></th>\n",
       "      <th></th>\n",
       "    </tr>\n",
       "  </thead>\n",
       "  <tbody>\n",
       "    <tr>\n",
       "      <th>2018-07-24</th>\n",
       "      <td>193.00</td>\n",
       "      <td>18680930.0</td>\n",
       "      <td>192.45</td>\n",
       "      <td>193.6601</td>\n",
       "      <td>192.05</td>\n",
       "    </tr>\n",
       "    <tr>\n",
       "      <th>2018-07-23</th>\n",
       "      <td>191.61</td>\n",
       "      <td>15955820.0</td>\n",
       "      <td>190.68</td>\n",
       "      <td>191.9600</td>\n",
       "      <td>189.56</td>\n",
       "    </tr>\n",
       "    <tr>\n",
       "      <th>2018-07-20</th>\n",
       "      <td>191.44</td>\n",
       "      <td>20670830.0</td>\n",
       "      <td>191.78</td>\n",
       "      <td>192.4300</td>\n",
       "      <td>190.17</td>\n",
       "    </tr>\n",
       "    <tr>\n",
       "      <th>2018-07-19</th>\n",
       "      <td>191.88</td>\n",
       "      <td>20182050.0</td>\n",
       "      <td>189.69</td>\n",
       "      <td>192.5500</td>\n",
       "      <td>189.69</td>\n",
       "    </tr>\n",
       "    <tr>\n",
       "      <th>2018-07-18</th>\n",
       "      <td>190.40</td>\n",
       "      <td>16365720.0</td>\n",
       "      <td>191.78</td>\n",
       "      <td>191.8000</td>\n",
       "      <td>189.93</td>\n",
       "    </tr>\n",
       "  </tbody>\n",
       "</table>\n",
       "</div>"
      ],
      "text/plain": [
       "             close      volume    open      high     low\n",
       "date                                                    \n",
       "2018-07-24  193.00  18680930.0  192.45  193.6601  192.05\n",
       "2018-07-23  191.61  15955820.0  190.68  191.9600  189.56\n",
       "2018-07-20  191.44  20670830.0  191.78  192.4300  190.17\n",
       "2018-07-19  191.88  20182050.0  189.69  192.5500  189.69\n",
       "2018-07-18  190.40  16365720.0  191.78  191.8000  189.93"
      ]
     },
     "execution_count": 52,
     "metadata": {},
     "output_type": "execute_result"
    }
   ],
   "source": [
    "appl = appl.set_index('date')\n",
    "appl.head(5)"
   ]
  },
  {
   "cell_type": "code",
   "execution_count": 53,
   "metadata": {
    "collapsed": false
   },
   "outputs": [
    {
     "data": {
      "text/plain": [
       "True"
      ]
     },
     "execution_count": 53,
     "metadata": {},
     "output_type": "execute_result"
    }
   ],
   "source": [
    "appl.index.is_unique"
   ]
  },
  {
   "cell_type": "code",
   "execution_count": 57,
   "metadata": {
    "collapsed": false
   },
   "outputs": [
    {
     "data": {
      "image/png": "[encoded data removed]",
      "text/plain": [
       "<matplotlib.figure.Figure at 0x9087668>"
      ]
     },
     "metadata": {},
     "output_type": "display_data"
    }
   ],
   "source": [
    "appl_open = appl['high'].plot(title = \"Apple Stock\")\n",
    "\n",
    "fig = appl_open.get_figure()\n",
    "fig.set_size_inches(13.5, 9)"
   ]
  },
  {
   "cell_type": "markdown",
   "metadata": {
    "collapsed": false
   },
   "source": [
    "## API connection for csv import"
   ]
  },
  {
   "cell_type": "code",
   "execution_count": 1,
   "metadata": {
    "collapsed": false
   },
   "outputs": [],
   "source": [
    "from iexfinance import Stock\n",
    "\n",
    "apple = Stock('AAPL')\n",
    "a = apple.get_open()\n",
    "b = apple.get_price()"
   ]
  },
  {
   "cell_type": "code",
   "execution_count": 2,
   "metadata": {
    "collapsed": false
   },
   "outputs": [],
   "source": [
    "from iexfinance import get_historical_data\n",
    "from datetime import datetime"
   ]
  },
  {
   "cell_type": "code",
   "execution_count": 11,
   "metadata": {
    "collapsed": false
   },
   "outputs": [
    {
     "data": {
      "text/html": [
       "<div>\n",
       "<style scoped>\n",
       "    .dataframe tbody tr th:only-of-type {\n",
       "        vertical-align: middle;\n",
       "    }\n",
       "\n",
       "    .dataframe tbody tr th {\n",
       "        vertical-align: top;\n",
       "    }\n",
       "\n",
       "    .dataframe thead th {\n",
       "        text-align: right;\n",
       "    }\n",
       "</style>\n",
       "<table border=\"1\" class=\"dataframe\">\n",
       "  <thead>\n",
       "    <tr style=\"text-align: right;\">\n",
       "      <th></th>\n",
       "      <th>open</th>\n",
       "      <th>high</th>\n",
       "      <th>low</th>\n",
       "      <th>close</th>\n",
       "      <th>volume</th>\n",
       "    </tr>\n",
       "    <tr>\n",
       "      <th>date</th>\n",
       "      <th></th>\n",
       "      <th></th>\n",
       "      <th></th>\n",
       "      <th></th>\n",
       "      <th></th>\n",
       "    </tr>\n",
       "  </thead>\n",
       "  <tbody>\n",
       "    <tr>\n",
       "      <th>2018-04-25</th>\n",
       "      <td>1458.00</td>\n",
       "      <td>1469.99</td>\n",
       "      <td>1415.02</td>\n",
       "      <td>1460.17</td>\n",
       "      <td>6587290</td>\n",
       "    </tr>\n",
       "    <tr>\n",
       "      <th>2018-04-26</th>\n",
       "      <td>1485.01</td>\n",
       "      <td>1529.42</td>\n",
       "      <td>1478.50</td>\n",
       "      <td>1517.96</td>\n",
       "      <td>8801101</td>\n",
       "    </tr>\n",
       "    <tr>\n",
       "      <th>2018-04-27</th>\n",
       "      <td>1634.01</td>\n",
       "      <td>1638.10</td>\n",
       "      <td>1567.39</td>\n",
       "      <td>1572.62</td>\n",
       "      <td>13053241</td>\n",
       "    </tr>\n",
       "    <tr>\n",
       "      <th>2018-04-30</th>\n",
       "      <td>1582.50</td>\n",
       "      <td>1596.00</td>\n",
       "      <td>1560.94</td>\n",
       "      <td>1566.13</td>\n",
       "      <td>5464085</td>\n",
       "    </tr>\n",
       "    <tr>\n",
       "      <th>2018-05-01</th>\n",
       "      <td>1563.22</td>\n",
       "      <td>1585.00</td>\n",
       "      <td>1552.18</td>\n",
       "      <td>1582.26</td>\n",
       "      <td>4572071</td>\n",
       "    </tr>\n",
       "  </tbody>\n",
       "</table>\n",
       "</div>"
      ],
      "text/plain": [
       "               open     high      low    close    volume\n",
       "date                                                    \n",
       "2018-04-25  1458.00  1469.99  1415.02  1460.17   6587290\n",
       "2018-04-26  1485.01  1529.42  1478.50  1517.96   8801101\n",
       "2018-04-27  1634.01  1638.10  1567.39  1572.62  13053241\n",
       "2018-04-30  1582.50  1596.00  1560.94  1566.13   5464085\n",
       "2018-05-01  1563.22  1585.00  1552.18  1582.26   4572071"
      ]
     },
     "execution_count": 11,
     "metadata": {},
     "output_type": "execute_result"
    }
   ],
   "source": [
    "start = datetime(2013, 1, 1)\n",
    "end = datetime(2018, 5, 1)\n",
    "\n",
    "df = get_historical_data(\"AMZN\", start=start, end=end, output_format='pandas')\n",
    "df.tail(5)"
   ]
  },
  {
   "cell_type": "code",
   "execution_count": 4,
   "metadata": {
    "collapsed": false
   },
   "outputs": [
    {
     "name": "stderr",
     "output_type": "stream",
     "text": [
      "C:\\Users\\SIDHARTH\\Anaconda3\\lib\\site-packages\\pandas\\core\\indexes\\base.py:2070: VisibleDeprecationWarning: using a non-integer number instead of an integer will result in an error in the future\n",
      "  return getitem(key)\n"
     ]
    },
    {
     "ename": "NameError",
     "evalue": "name 'plt' is not defined",
     "output_type": "error",
     "traceback": [
      "\u001b[1;31m---------------------------------------------------------------------------\u001b[0m",
      "\u001b[1;31mNameError\u001b[0m                                 Traceback (most recent call last)",
      "\u001b[1;32m<ipython-input-4-1e4de6ac4b0b>\u001b[0m in \u001b[0;36m<module>\u001b[1;34m()\u001b[0m\n\u001b[0;32m      1\u001b[0m \u001b[0mdf\u001b[0m\u001b[1;33m.\u001b[0m\u001b[0mplot\u001b[0m\u001b[1;33m(\u001b[0m\u001b[1;33m)\u001b[0m\u001b[1;33m\u001b[0m\u001b[0m\n\u001b[1;32m----> 2\u001b[1;33m \u001b[0mplt\u001b[0m\u001b[1;33m.\u001b[0m\u001b[0mtitle\u001b[0m\u001b[1;33m(\u001b[0m\u001b[1;34m'Amazon'\u001b[0m\u001b[1;33m)\u001b[0m\u001b[1;33m\u001b[0m\u001b[0m\n\u001b[0m\u001b[0;32m      3\u001b[0m \u001b[0mplt\u001b[0m\u001b[1;33m.\u001b[0m\u001b[0mshow\u001b[0m\u001b[1;33m(\u001b[0m\u001b[1;33m)\u001b[0m\u001b[1;33m\u001b[0m\u001b[0m\n",
      "\u001b[1;31mNameError\u001b[0m: name 'plt' is not defined"
     ]
    }
   ],
   "source": [
    "df.plot()\n",
    "plt.title('Amazon')\n",
    "plt.show()"
   ]
  },
  {
   "cell_type": "code",
   "execution_count": 12,
   "metadata": {
    "collapsed": false
   },
   "outputs": [
    {
     "name": "stderr",
     "output_type": "stream",
     "text": [
      "C:\\Users\\SIDHARTH\\Anaconda3\\lib\\site-packages\\pandas\\core\\indexes\\base.py:2070: VisibleDeprecationWarning: using a non-integer number instead of an integer will result in an error in the future\n",
      "  return getitem(key)\n"
     ]
    },
    {
     "data": {
      "image/png": "[encoded data removed]",
      "text/plain": [
       "<matplotlib.figure.Figure at 0xa76bf98>"
      ]
     },
     "metadata": {},
     "output_type": "display_data"
    }
   ],
   "source": [
    "appl_open = df['high'].plot(title = \"Amazon Stock\")\n",
    "\n",
    "fig = appl_open.get_figure()\n",
    "fig.set_size_inches(13.5, 9)"
   ]
  },
  {
   "cell_type": "code",
   "execution_count": null,
   "metadata": {
    "collapsed": true
   },
   "outputs": [],
   "source": []
  }
 ],
 "metadata": {
  "anaconda-cloud": {},
  "kernelspec": {
   "display_name": "Python [Root]",
   "language": "python",
   "name": "Python [Root]"
  },
  "language_info": {
   "codemirror_mode": {
    "name": "ipython",
    "version": 3
   },
   "file_extension": ".py",
   "mimetype": "text/x-python",
   "name": "python",
   "nbconvert_exporter": "python",
   "pygments_lexer": "ipython3",
   "version": "3.5.2"
  }
 },
 "nbformat": 4,
 "nbformat_minor": 1
}
